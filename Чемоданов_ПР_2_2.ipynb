{
 "cells": [
  {
   "cell_type": "code",
   "execution_count": 1,
   "metadata": {},
   "outputs": [],
   "source": [
    "import pandas as pd\n",
    "\n",
    "# Зчитуємо CSV файл\n",
    "df = pd.read_csv('bestsellers with categories.csv')\n"
   ]
  },
  {
   "cell_type": "code",
   "execution_count": 3,
   "metadata": {},
   "outputs": [
    {
     "name": "stdout",
     "output_type": "stream",
     "text": [
      "                                                Name  \\\n",
      "0                      10-Day Green Smoothie Cleanse   \n",
      "1                                  11/22/63: A Novel   \n",
      "2            12 Rules for Life: An Antidote to Chaos   \n",
      "3                             1984 (Signet Classics)   \n",
      "4  5,000 Awesome Facts (About Everything!) (Natio...   \n",
      "5      A Dance with Dragons (A Song of Ice and Fire)   \n",
      "6  A Game of Thrones / A Clash of Kings / A Storm...   \n",
      "7                     A Gentleman in Moscow: A Novel   \n",
      "8      A Higher Loyalty: Truth, Lies, and Leadership   \n",
      "9                          A Man Called Ove: A Novel   \n",
      "\n",
      "                     Author  User Rating  Reviews  Price  Year        Genre  \n",
      "0                  JJ Smith          4.7    17350      8  2016  Non Fiction  \n",
      "1              Stephen King          4.6     2052     22  2011      Fiction  \n",
      "2        Jordan B. Peterson          4.7    18979     15  2018  Non Fiction  \n",
      "3             George Orwell          4.7    21424      6  2017      Fiction  \n",
      "4  National Geographic Kids          4.8     7665     12  2019  Non Fiction  \n",
      "5       George R. R. Martin          4.4    12643     11  2011      Fiction  \n",
      "6       George R. R. Martin          4.7    19735     30  2014      Fiction  \n",
      "7               Amor Towles          4.7    19699     15  2017      Fiction  \n",
      "8               James Comey          4.7     5983      3  2018  Non Fiction  \n",
      "9           Fredrik Backman          4.6    23848      8  2016      Fiction  \n"
     ]
    }
   ],
   "source": [
    "#Виведіть перші 10 рядків (метод head):\n",
    "print(df.head(10))\n"
   ]
  },
  {
   "cell_type": "code",
   "execution_count": 4,
   "metadata": {},
   "outputs": [
    {
     "name": "stdout",
     "output_type": "stream",
     "text": [
      "Розмір датасету: (550, 7)\n"
     ]
    }
   ],
   "source": [
    "#Виведіть розміри датасету (метод shape):\n",
    "print(\"Розмір датасету:\", df.shape)\n"
   ]
  },
  {
   "cell_type": "markdown",
   "metadata": {},
   "source": [
    "# Питання: Про скільки книг зберігає дані датасет?\n",
    "# Відповідь: Датасет містить інформацію про 550 книг."
   ]
  },
  {
   "cell_type": "code",
   "execution_count": 5,
   "metadata": {},
   "outputs": [
    {
     "name": "stdout",
     "output_type": "stream",
     "text": [
      "name           0\n",
      "author         0\n",
      "user_rating    0\n",
      "reviews        0\n",
      "price          0\n",
      "year           0\n",
      "genre          0\n",
      "dtype: int64\n"
     ]
    }
   ],
   "source": [
    "#Змініть назви всіх колонок: назва з маленької букви, без пробілів через підкреслення. Вивести кількість пропусків у кожному стовпчику.\n",
    "# Змінюємо назви стовпців та виводимо кількість пропусків\n",
    "df.columns = ['name', 'author', 'user_rating', 'reviews', 'price', 'year', 'genre']\n",
    "print(df.isna().sum())\n"
   ]
  },
  {
   "cell_type": "markdown",
   "metadata": {},
   "source": [
    "# Питання: Чи є в якихось змінних пропуски? (Так / ні)\n",
    "# Відповідь: Ні, в жодному зі стовпців немає пропусків."
   ]
  },
  {
   "cell_type": "code",
   "execution_count": 6,
   "metadata": {},
   "outputs": [
    {
     "name": "stdout",
     "output_type": "stream",
     "text": [
      "Унікальні жанри: ['Non Fiction' 'Fiction']\n"
     ]
    }
   ],
   "source": [
    "#За допомогою методу unique перевірте, які є унікальні жанри в стовпці \"genre\".\n",
    "\n",
    "# Виводимо унікальні жанри\n",
    "unique_genres = df['genre'].unique()\n",
    "print(\"Унікальні жанри:\", unique_genres)\n"
   ]
  },
  {
   "cell_type": "code",
   "execution_count": 7,
   "metadata": {},
   "outputs": [
    {
     "name": "stdout",
     "output_type": "stream",
     "text": [
      "Максимальна ціна: 105\n",
      "Мінімальна ціна: 0\n",
      "Середня ціна: 13.1\n",
      "Медіанна ціна: 11.0\n"
     ]
    }
   ],
   "source": [
    "# Визначте максимальну, мінімальну, медіанну та середню ціну за допомогою методів max, min, mean, median.\n",
    "\n",
    "# Визначаємо максимальну, мінімальну, медіанну та середню ціну\n",
    "max_price = df['price'].max()\n",
    "min_price = df['price'].min()\n",
    "mean_price = df['price'].mean()\n",
    "median_price = df['price'].median()\n",
    "\n",
    "print(\"Максимальна ціна:\", max_price)\n",
    "print(\"Мінімальна ціна:\", min_price)\n",
    "print(\"Середня ціна:\", mean_price)\n",
    "print(\"Медіанна ціна:\", median_price)\n"
   ]
  },
  {
   "cell_type": "code",
   "execution_count": 8,
   "metadata": {},
   "outputs": [
    {
     "name": "stdout",
     "output_type": "stream",
     "text": [
      "Найвищий рейтинг: 4.9\n",
      "Кількість книг з найвищим рейтингом: 52\n",
      "Книга з найбільшою кількістю відгуків: Where the Crawdads Sing\n",
      "Найдорожча книга у 2010 році: 46\n",
      "Кількість книг жанру Fiction у 2012 році: 21\n",
      "Кількість книг з рейтингом 4.9 у 2010 та 2011 роках: 1\n",
      "Максимальні та мінімальні ціни для жанрів Fiction і NonFiction:\n",
      "             max  min\n",
      "genre                \n",
      "Fiction       82    0\n",
      "Non Fiction  105    0\n"
     ]
    }
   ],
   "source": [
    "#Виконайте наступні завдання з пошуку і сортування даних:\n",
    "\n",
    "# Питання: Який рейтинг у датасеті найвищий?\n",
    "highest_rating = df['user_rating'].max()\n",
    "print(\"Найвищий рейтинг:\", highest_rating)\n",
    "\n",
    "# Питання: Скільки книг мають такий рейтинг?\n",
    "count_highest_rating = df[df['user_rating'] == highest_rating]['user_rating'].count()\n",
    "print(\"Кількість книг з найвищим рейтингом:\", count_highest_rating)\n",
    "\n",
    "# Питання: Яка книга має найбільше відгуків?\n",
    "book_with_most_reviews = df[df['reviews'] == df['reviews'].max()]['name'].values[0]\n",
    "print(\"Книга з найбільшою кількістю відгуків:\", book_with_most_reviews)\n",
    "\n",
    "# Питання: З тих книг, що потрапили до Топ-50 у 2010 році, яка книга найдорожча?\n",
    "most_expensive_2010 = df[(df['year'] == 2010)]['price'].max()\n",
    "print(\"Найдорожча книга у 2010 році:\", most_expensive_2010)\n",
    "\n",
    "# Питання: Скільки книг жанру Fiction потрапили до Топ-50 у 2012 році\n",
    "count_fiction_2012 = df[(df['year'] == 2012) & (df['genre'] == 'Fiction')]['name'].count()\n",
    "print(\"Кількість книг жанру Fiction у 2012 році:\", count_fiction_2012)\n",
    "\n",
    "# Питання: Скільки книг з рейтингом 4.9 потрапило до рейтингу у 2010 та 2011 роках\n",
    "count_49_rating_2010_2011 = df[(df['user_rating'] == 4.9) & ((df['year'] == 2010) | (df['year'] == 2011))]['name'].count()\n",
    "print(\"Кількість книг з рейтингом 4.9 у 2010 та 2011 роках:\", count_49_rating_2010_2011)\n",
    "\n",
    "# Вивести максимальну і мінімальну ціну для жанру Fiction і NonFiction\n",
    "max_min_prices = df.groupby('genre')['price'].agg(['max', 'min'])\n",
    "print(\"Максимальні та мінімальні ціни для жанрів Fiction і NonFiction:\")\n",
    "print(max_min_prices)\n"
   ]
  }
 ],
 "metadata": {
  "kernelspec": {
   "display_name": "Python 3",
   "language": "python",
   "name": "python3"
  },
  "language_info": {
   "codemirror_mode": {
    "name": "ipython",
    "version": 3
   },
   "file_extension": ".py",
   "mimetype": "text/x-python",
   "name": "python",
   "nbconvert_exporter": "python",
   "pygments_lexer": "ipython3",
   "version": "3.11.5"
  },
  "orig_nbformat": 4
 },
 "nbformat": 4,
 "nbformat_minor": 2
}
