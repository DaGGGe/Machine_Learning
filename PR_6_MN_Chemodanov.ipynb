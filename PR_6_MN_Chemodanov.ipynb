{
 "cells": [
  {
   "cell_type": "code",
   "execution_count": 1,
   "metadata": {},
   "outputs": [],
   "source": [
    "from sklearn import datasets\n",
    "from sklearn.model_selection import train_test_split\n",
    "\n",
    "# Завантаження набору даних Iris\n",
    "iris = datasets.load_iris()\n",
    "X = iris.data  # Ознаки\n",
    "y = iris.target  # Цільова змінна (класи)\n",
    "\n",
    "# Розділити дані на тренувальний та тестовий набори\n",
    "X_train, X_test, y_train, y_test = train_test_split(X, y, test_size=0.3, random_state=42)\n"
   ]
  },
  {
   "cell_type": "code",
   "execution_count": 2,
   "metadata": {},
   "outputs": [
    {
     "name": "stdout",
     "output_type": "stream",
     "text": [
      "Точність моделі SVM: 1.0\n"
     ]
    }
   ],
   "source": [
    "from sklearn.svm import SVC\n",
    "\n",
    "# Створення моделі SVM\n",
    "svm_classifier = SVC()\n",
    "\n",
    "# Тренування моделі на тренувальних даних\n",
    "svm_classifier.fit(X_train, y_train)\n",
    "\n",
    "# Передбачення класів для тестових даних\n",
    "y_pred_svm = svm_classifier.predict(X_test)\n",
    "\n",
    "# Визначення точності\n",
    "accuracy_svm = (y_pred_svm == y_test).mean()\n",
    "print(f\"Точність моделі SVM: {accuracy_svm}\")\n"
   ]
  },
  {
   "cell_type": "code",
   "execution_count": 3,
   "metadata": {},
   "outputs": [
    {
     "name": "stdout",
     "output_type": "stream",
     "text": [
      "Точність моделі Random Forest: 1.0\n"
     ]
    }
   ],
   "source": [
    "from sklearn.ensemble import RandomForestClassifier\n",
    "\n",
    "# Створення моделі Random Forest\n",
    "rf_classifier = RandomForestClassifier()\n",
    "\n",
    "# Тренування моделі на тренувальних даних\n",
    "rf_classifier.fit(X_train, y_train)\n",
    "\n",
    "# Передбачення класів для тестових даних\n",
    "y_pred_rf = rf_classifier.predict(X_test)\n",
    "\n",
    "# Визначення точності\n",
    "accuracy_rf = (y_pred_rf == y_test).mean()\n",
    "print(f\"Точність моделі Random Forest: {accuracy_rf}\")\n"
   ]
  },
  {
   "cell_type": "markdown",
   "metadata": {},
   "source": [
    "Порівняння"
   ]
  },
  {
   "cell_type": "markdown",
   "metadata": {},
   "source": [
    "Точність:\n",
    "\n",
    "Точність - це співвідношення правильно класифікованих зразків до загальної кількості зразків у тестовому наборі.\n",
    "В моделі SVM та Random Forest точність буде різною, і вона може залежати від вибору параметрів та регуляризації.\n",
    "Відновлення та F1-показник:\n",
    "\n",
    "Крім точності, також важливі метрики відновлення (recall) та F1-показник, особливо якщо ви працюєте з незбалансованими даними.\n",
    "Швидкодія:\n",
    "\n",
    "В залежності від розміру даних та конфігурації алгоритмів, один алгоритм може бути швидшим або повільнішим за інший.\n",
    "Ресурсозатратність:\n",
    "\n",
    "Random Forest використовує багато дерев при класифікації, що може призвести до більшої використаної пам'яті та ресурсів, в порівнянні з SVM.\n",
    "Ваш результат буде залежати від багатьох факторів, включаючи параметри обох моделей, які ви використовуєте. Рекомендую провести експерименти з різними параметрами SVM та Random Forest на наборі даних Iris, обчислити вищезгадані метрики та визначити, яка модель найкраще справляється з завданням класифікації ірисів."
   ]
  }
 ],
 "metadata": {
  "kernelspec": {
   "display_name": "Python 3",
   "language": "python",
   "name": "python3"
  },
  "language_info": {
   "codemirror_mode": {
    "name": "ipython",
    "version": 3
   },
   "file_extension": ".py",
   "mimetype": "text/x-python",
   "name": "python",
   "nbconvert_exporter": "python",
   "pygments_lexer": "ipython3",
   "version": "3.11.5"
  }
 },
 "nbformat": 4,
 "nbformat_minor": 2
}
