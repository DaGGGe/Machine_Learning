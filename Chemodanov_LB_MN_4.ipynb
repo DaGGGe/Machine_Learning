{
 "cells": [
  {
   "cell_type": "code",
   "execution_count": 2,
   "metadata": {},
   "outputs": [
    {
     "name": "stdout",
     "output_type": "stream",
     "text": [
      "      price  area  bedrooms  bathrooms  stories mainroad guestroom basement  \\\n",
      "0  13300000  7420         4          2        3      yes        no       no   \n",
      "1  12250000  8960         4          4        4      yes        no       no   \n",
      "2  12250000  9960         3          2        2      yes        no      yes   \n",
      "3  12215000  7500         4          2        2      yes        no      yes   \n",
      "4  11410000  7420         4          1        2      yes       yes      yes   \n",
      "\n",
      "  hotwaterheating airconditioning  parking prefarea furnishingstatus  \n",
      "0              no             yes        2      yes        furnished  \n",
      "1              no             yes        3       no        furnished  \n",
      "2              no              no        2      yes   semi-furnished  \n",
      "3              no             yes        3      yes        furnished  \n",
      "4              no             yes        2       no        furnished  \n"
     ]
    }
   ],
   "source": [
    "import pandas as pd\n",
    "\n",
    "# Завантаження даних\n",
    "data = pd.read_csv('Housing.csv')\n",
    "\n",
    "# Виведення перших 5 рядків\n",
    "print(data.head())"
   ]
  },
  {
   "cell_type": "code",
   "execution_count": 4,
   "metadata": {},
   "outputs": [
    {
     "name": "stdout",
     "output_type": "stream",
     "text": [
      "        price  area  bedrooms  bathrooms\n",
      "0    13300000  7420         4          2\n",
      "1    12250000  8960         4          4\n",
      "2    12250000  9960         3          2\n",
      "3    12215000  7500         4          2\n",
      "4    11410000  7420         4          1\n",
      "..        ...   ...       ...        ...\n",
      "540   1820000  3000         2          1\n",
      "541   1767150  2400         3          1\n",
      "542   1750000  3620         2          1\n",
      "543   1750000  2910         3          1\n",
      "544   1750000  3850         3          1\n",
      "\n",
      "[545 rows x 4 columns]\n"
     ]
    }
   ],
   "source": [
    "#Створіть новий датасет, що містить лише вибрані стовпці: 'price', 'area', 'bedrooms', 'bathrooms'.\n",
    "columns = ['price', 'area', 'bedrooms', 'bathrooms']\n",
    "data = data[columns]\n",
    "print(data)"
   ]
  },
  {
   "cell_type": "code",
   "execution_count": 5,
   "metadata": {},
   "outputs": [
    {
     "name": "stdout",
     "output_type": "stream",
     "text": [
      "price        0\n",
      "area         0\n",
      "bedrooms     0\n",
      "bathrooms    0\n",
      "dtype: int64\n"
     ]
    }
   ],
   "source": [
    "#Проведіть попередній аналіз даних, включаючи перевірку наявності відсутніх значень та обробку їх, якщо необхідно.\n",
    "# Перевірка на наявність відсутніх значень\n",
    "print(data.isnull().sum())\n",
    "\n",
    "# Якщо є відсутні значення, замініть їх на середнє значення\n",
    "data.fillna(data.mean(), inplace=True)\n"
   ]
  },
  {
   "cell_type": "code",
   "execution_count": 12,
   "metadata": {},
   "outputs": [],
   "source": [
    "from sklearn.preprocessing import StandardScaler\n",
    "\n",
    "# Ініціалізація об'єкта нормалізації\n",
    "scaler = StandardScaler()\n",
    "\n",
    "# Нормалізація даних\n",
    "data[['area', 'bedrooms', 'bathrooms']] = scaler.fit_transform(data[['area', 'bedrooms', 'bathrooms']])\n"
   ]
  },
  {
   "cell_type": "code",
   "execution_count": 14,
   "metadata": {},
   "outputs": [
    {
     "name": "stdout",
     "output_type": "stream",
     "text": [
      "        price      area  bedrooms  bathrooms\n",
      "0    13300000  1.046726  1.403419   1.421812\n",
      "1    12250000  1.757010  1.403419   5.405809\n",
      "2    12250000  2.218232  0.047278   1.421812\n",
      "3    12215000  1.083624  1.403419   1.421812\n",
      "4    11410000  1.046726  1.403419  -0.570187\n",
      "..        ...       ...       ...        ...\n",
      "540   1820000 -0.991879 -1.308863  -0.570187\n",
      "541   1767150 -1.268613  0.047278  -0.570187\n",
      "542   1750000 -0.705921 -1.308863  -0.570187\n",
      "543   1750000 -1.033389  0.047278  -0.570187\n",
      "544   1750000 -0.599839  0.047278  -0.570187\n",
      "\n",
      "[545 rows x 4 columns]\n"
     ]
    }
   ],
   "source": [
    "#Розділіть дані на навчальний та тестовий набори для подальшого оцінювання моделі.\n",
    "\n",
    "from sklearn.model_selection import train_test_split\n",
    "\n",
    "X = data[['area', 'bedrooms', 'bathrooms']]\n",
    "y = data['price']\n",
    "\n",
    "X_train, X_test, y_train, y_test = train_test_split(X, y, test_size=0.2, random_state=42)\n",
    "print(data)\n"
   ]
  },
  {
   "cell_type": "code",
   "execution_count": 15,
   "metadata": {},
   "outputs": [
    {
     "data": {
      "text/html": [
       "<style>#sk-container-id-1 {color: black;}#sk-container-id-1 pre{padding: 0;}#sk-container-id-1 div.sk-toggleable {background-color: white;}#sk-container-id-1 label.sk-toggleable__label {cursor: pointer;display: block;width: 100%;margin-bottom: 0;padding: 0.3em;box-sizing: border-box;text-align: center;}#sk-container-id-1 label.sk-toggleable__label-arrow:before {content: \"▸\";float: left;margin-right: 0.25em;color: #696969;}#sk-container-id-1 label.sk-toggleable__label-arrow:hover:before {color: black;}#sk-container-id-1 div.sk-estimator:hover label.sk-toggleable__label-arrow:before {color: black;}#sk-container-id-1 div.sk-toggleable__content {max-height: 0;max-width: 0;overflow: hidden;text-align: left;background-color: #f0f8ff;}#sk-container-id-1 div.sk-toggleable__content pre {margin: 0.2em;color: black;border-radius: 0.25em;background-color: #f0f8ff;}#sk-container-id-1 input.sk-toggleable__control:checked~div.sk-toggleable__content {max-height: 200px;max-width: 100%;overflow: auto;}#sk-container-id-1 input.sk-toggleable__control:checked~label.sk-toggleable__label-arrow:before {content: \"▾\";}#sk-container-id-1 div.sk-estimator input.sk-toggleable__control:checked~label.sk-toggleable__label {background-color: #d4ebff;}#sk-container-id-1 div.sk-label input.sk-toggleable__control:checked~label.sk-toggleable__label {background-color: #d4ebff;}#sk-container-id-1 input.sk-hidden--visually {border: 0;clip: rect(1px 1px 1px 1px);clip: rect(1px, 1px, 1px, 1px);height: 1px;margin: -1px;overflow: hidden;padding: 0;position: absolute;width: 1px;}#sk-container-id-1 div.sk-estimator {font-family: monospace;background-color: #f0f8ff;border: 1px dotted black;border-radius: 0.25em;box-sizing: border-box;margin-bottom: 0.5em;}#sk-container-id-1 div.sk-estimator:hover {background-color: #d4ebff;}#sk-container-id-1 div.sk-parallel-item::after {content: \"\";width: 100%;border-bottom: 1px solid gray;flex-grow: 1;}#sk-container-id-1 div.sk-label:hover label.sk-toggleable__label {background-color: #d4ebff;}#sk-container-id-1 div.sk-serial::before {content: \"\";position: absolute;border-left: 1px solid gray;box-sizing: border-box;top: 0;bottom: 0;left: 50%;z-index: 0;}#sk-container-id-1 div.sk-serial {display: flex;flex-direction: column;align-items: center;background-color: white;padding-right: 0.2em;padding-left: 0.2em;position: relative;}#sk-container-id-1 div.sk-item {position: relative;z-index: 1;}#sk-container-id-1 div.sk-parallel {display: flex;align-items: stretch;justify-content: center;background-color: white;position: relative;}#sk-container-id-1 div.sk-item::before, #sk-container-id-1 div.sk-parallel-item::before {content: \"\";position: absolute;border-left: 1px solid gray;box-sizing: border-box;top: 0;bottom: 0;left: 50%;z-index: -1;}#sk-container-id-1 div.sk-parallel-item {display: flex;flex-direction: column;z-index: 1;position: relative;background-color: white;}#sk-container-id-1 div.sk-parallel-item:first-child::after {align-self: flex-end;width: 50%;}#sk-container-id-1 div.sk-parallel-item:last-child::after {align-self: flex-start;width: 50%;}#sk-container-id-1 div.sk-parallel-item:only-child::after {width: 0;}#sk-container-id-1 div.sk-dashed-wrapped {border: 1px dashed gray;margin: 0 0.4em 0.5em 0.4em;box-sizing: border-box;padding-bottom: 0.4em;background-color: white;}#sk-container-id-1 div.sk-label label {font-family: monospace;font-weight: bold;display: inline-block;line-height: 1.2em;}#sk-container-id-1 div.sk-label-container {text-align: center;}#sk-container-id-1 div.sk-container {/* jupyter's `normalize.less` sets `[hidden] { display: none; }` but bootstrap.min.css set `[hidden] { display: none !important; }` so we also need the `!important` here to be able to override the default hidden behavior on the sphinx rendered scikit-learn.org. See: https://github.com/scikit-learn/scikit-learn/issues/21755 */display: inline-block !important;position: relative;}#sk-container-id-1 div.sk-text-repr-fallback {display: none;}</style><div id=\"sk-container-id-1\" class=\"sk-top-container\"><div class=\"sk-text-repr-fallback\"><pre>LinearRegression()</pre><b>In a Jupyter environment, please rerun this cell to show the HTML representation or trust the notebook. <br />On GitHub, the HTML representation is unable to render, please try loading this page with nbviewer.org.</b></div><div class=\"sk-container\" hidden><div class=\"sk-item\"><div class=\"sk-estimator sk-toggleable\"><input class=\"sk-toggleable__control sk-hidden--visually\" id=\"sk-estimator-id-1\" type=\"checkbox\" checked><label for=\"sk-estimator-id-1\" class=\"sk-toggleable__label sk-toggleable__label-arrow\">LinearRegression</label><div class=\"sk-toggleable__content\"><pre>LinearRegression()</pre></div></div></div></div></div>"
      ],
      "text/plain": [
       "LinearRegression()"
      ]
     },
     "execution_count": 15,
     "metadata": {},
     "output_type": "execute_result"
    }
   ],
   "source": [
    "#Побудуйте модель лінійної регресії та навчіть її на навчальних даних.\n",
    "from sklearn.linear_model import LinearRegression\n",
    "\n",
    "# Ініціалізація моделі\n",
    "model = LinearRegression()\n",
    "\n",
    "# Навчання моделі на навчальних даних\n",
    "model.fit(X_train, y_train)\n"
   ]
  },
  {
   "cell_type": "code",
   "execution_count": 16,
   "metadata": {},
   "outputs": [
    {
     "name": "stdout",
     "output_type": "stream",
     "text": [
      "RMSE: 1658324.6001036866\n",
      "R-squared (R2): 0.4559299118872445\n"
     ]
    }
   ],
   "source": [
    "from sklearn.metrics import mean_squared_error, r2_score\n",
    "import numpy as np\n",
    "\n",
    "# Прогноз на тестових даних\n",
    "y_pred = model.predict(X_test)\n",
    "\n",
    "# Розрахунок RMSE\n",
    "rmse = np.sqrt(mean_squared_error(y_test, y_pred))\n",
    "print(f'RMSE: {rmse}')\n",
    "\n",
    "# Розрахунок R-squared\n",
    "r2 = r2_score(y_test, y_pred)\n",
    "print(f'R-squared (R2): {r2}')\n"
   ]
  },
  {
   "cell_type": "code",
   "execution_count": 17,
   "metadata": {},
   "outputs": [
    {
     "name": "stdout",
     "output_type": "stream",
     "text": [
      "Mean R-squared (R2) after cross-validation: -13.989158180111696\n"
     ]
    }
   ],
   "source": [
    "#Для підвищення якості моделі застосуйте крос-валідацію та порівняйте результати.\n",
    "from sklearn.model_selection import cross_val_score\n",
    "\n",
    "# Виконайте крос-валідацію з обраною кількістю складок (наприклад, 5)\n",
    "cv_scores = cross_val_score(model, X, y, cv=5)\n",
    "\n",
    "# Виведіть середнє значення коефіцієнта детермінації (R2) після крос-валідації\n",
    "print(f'Mean R-squared (R2) after cross-validation: {np.mean(cv_scores)}')\n"
   ]
  },
  {
   "cell_type": "code",
   "execution_count": 18,
   "metadata": {},
   "outputs": [
    {
     "name": "stdout",
     "output_type": "stream",
     "text": [
      "[6383168.05981192 6230250.35140428 3597885.28090091 4289730.8386382\n",
      " 3930445.60575177 4883933.33918115 5505773.16533075 6068793.48103629\n",
      " 3321512.02483442 3495157.72744705 8731338.12527606 3561265.8244721\n",
      " 3487335.97847431 3633344.35548029 3933900.2714526  6661080.95290716\n",
      " 2893133.47793136 4635197.40872131 4583377.42320885 4274999.75826381\n",
      " 4296640.17003986 4920207.32903988 3462807.85199841 3875170.95453847\n",
      " 5412497.19140831 7425564.68389184 3269692.03932195 5021117.35611339\n",
      " 7122556.71331971 3238600.04801448 5366583.9261965  3640253.68688195\n",
      " 6057517.06636272 4847659.34932243 4572198.51082701 5573863.86824637\n",
      " 4167435.67282878 4021179.33154445 3764621.65211187 5307730.62714319\n",
      " 5319221.21748587 3456243.98716683 6202613.02579763 4013357.58257171\n",
      " 4534099.68582614 4235271.10270425 6057517.06636272 4525560.52386579\n",
      " 4983206.22693418 3238600.04801448 6567080.25723531 3238600.04801448\n",
      " 4886475.58731091 4116997.55359665 4180093.95378268 3567705.7071645\n",
      " 5971150.42384194 3391517.75642212 5150855.01571622 3514973.30408096\n",
      " 4723103.68827085 4722288.7729915  4427005.04910037 3915714.52537737\n",
      " 4414098.80386812 3861352.29173514 5904599.35795508 3598797.69847198\n",
      " 5824514.82737828 4531557.43769638 4969297.37060092 4759565.37395123\n",
      " 5104119.52646327 7612116.63173672 3129432.61186821 5816602.88487562\n",
      " 3816441.63762434 3865621.87271532 4635197.40872131 4393370.80966313\n",
      " 6542082.68205015 3971901.59416174 5884783.78132117 4866660.010677\n",
      " 3149691.15736394 7466018.06120081 3529704.38445536 3754257.65500938\n",
      " 6908277.24633825 7840034.37446164 3940907.10514599 5343403.87739169\n",
      " 4084993.1447181  3740438.99220606 9091535.77573357 4200821.94798766\n",
      " 4935974.80912452 5988423.7523461  4462464.12367976 6624994.65887009\n",
      " 3681709.67529193 5573863.86824637 3588433.70136949 6547076.98477974\n",
      " 4995395.05917882 5316678.96935611 6417714.71682023 6057517.06636272\n",
      " 6092063.72337103]\n"
     ]
    }
   ],
   "source": [
    "#Побудуйте прогнозовані ціни на будинки для тестового набору даних і виведіть їх.\n",
    "# Прогнозовані ціни на будинки для тестового набору даних\n",
    "predicted_prices = model.predict(X_test)\n",
    "print(predicted_prices)\n"
   ]
  },
  {
   "cell_type": "code",
   "execution_count": 19,
   "metadata": {},
   "outputs": [],
   "source": [
    "# Додайте стовпець з одиницями для зміщення в матрицю X\n",
    "X_train['bias'] = 1\n",
    "\n",
    "# Перетворіть дані у масиви NumPy\n",
    "X = X_train.values\n",
    "y = y_train.values\n",
    "\n",
    "# Знайдіть коефіцієнти лінійної регресії аналітично\n",
    "coefficients = np.linalg.inv(X.T @ X) @ X.T @ y"
   ]
  },
  {
   "cell_type": "code",
   "execution_count": 20,
   "metadata": {},
   "outputs": [
    {
     "data": {
      "image/png": "[encoded data removed]",
      "text/plain": [
       "<Figure size 640x480 with 1 Axes>"
      ]
     },
     "metadata": {},
     "output_type": "display_data"
    },
    {
     "name": "stdout",
     "output_type": "stream",
     "text": [
      "Коефіцієнти лінійної регресії (аналітичні):\n",
      "Коефіцієнт для 'area': 749023.051426511\n",
      "Коефіцієнт для 'bedrooms': 265604.85843733686\n",
      "Коефіцієнт для 'bathrooms': 714016.4484774787\n",
      "Коефіцієнт для зміщення (bias): 4736303.161529643\n"
     ]
    }
   ],
   "source": [
    "#Частина 3: Візуалізація результатів та порівняння\n",
    "import matplotlib.pyplot as plt\n",
    "\n",
    "# Візуалізація реальних даних\n",
    "plt.scatter(X_test['area'], y_test, label='Дані', color='blue')\n",
    "\n",
    "# Візуалізація прогнозованих значень\n",
    "predicted_prices_analytical = X_test['area'] * coefficients[0] + X_test['bedrooms'] * coefficients[1] + X_test['bathrooms'] * coefficients[2] + coefficients[3]\n",
    "plt.plot(X_test['area'], predicted_prices_analytical, label='Прогноз', color='red')\n",
    "\n",
    "plt.xlabel('Площа')\n",
    "plt.ylabel('Ціна на будинок')\n",
    "plt.legend()\n",
    "plt.show()\n",
    "\n",
    "# Вивід коефіцієнтів лінійної регресії аналітично\n",
    "print(\"Коефіцієнти лінійної регресії (аналітичні):\")\n",
    "print(\"Коефіцієнт для 'area':\", coefficients[0])\n",
    "print(\"Коефіцієнт для 'bedrooms':\", coefficients[1])\n",
    "print(\"Коефіцієнт для 'bathrooms':\", coefficients[2])\n",
    "print(\"Коефіцієнт для зміщення (bias):\", coefficients[3])\n"
   ]
  }
 ],
 "metadata": {
  "kernelspec": {
   "display_name": "Python 3",
   "language": "python",
   "name": "python3"
  },
  "language_info": {
   "codemirror_mode": {
    "name": "ipython",
    "version": 3
   },
   "file_extension": ".py",
   "mimetype": "text/x-python",
   "name": "python",
   "nbconvert_exporter": "python",
   "pygments_lexer": "ipython3",
   "version": "3.11.5"
  },
  "orig_nbformat": 4
 },
 "nbformat": 4,
 "nbformat_minor": 2
}
